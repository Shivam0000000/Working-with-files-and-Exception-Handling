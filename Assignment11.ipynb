{
 "cells": [
  {
   "cell_type": "markdown",
   "id": "c073f36b-45c1-4cad-b912-271aa60970f0",
   "metadata": {},
   "source": [
    "Q1. Which function is used to open a file? What are the different modes of opening a file? Explain each mode\n",
    "of file opening."
   ]
  },
  {
   "cell_type": "code",
   "execution_count": null,
   "id": "fc4f3910-2b6c-417c-8fc3-be754a18cdac",
   "metadata": {},
   "outputs": [],
   "source": [
    "\"\"\"The function used to open a file is typically called open() in most programming languages.\n",
    "\n",
    "The different modes of opening a file are:\n",
    "\n",
    "\"r\" (Read mode): Used to read the contents of a file. The file must exist.\n",
    "\n",
    "\"w\" (Write mode): Used to write data to a file. If the file exists, it is truncated (cleared); if not, a new file is created.\n",
    "\n",
    "\"a\" (Append mode): Used to append data to an existing file or create a new file if it doesn't exist.\n",
    "\n",
    "\"x\" (Exclusive creation mode): Used to create a new file, but it raises an error if the file already exists.\n",
    "\n",
    "\"t\" (Text mode): Used to read or write text data. It is the default mode if not specified.\n",
    "\n",
    "\"b\" (Binary mode): Used to read or write binary data.\n",
    "\n",
    "\"+\" (Updating mode): Used for simultaneous reading and writing operations.\"\"\""
   ]
  },
  {
   "cell_type": "markdown",
   "id": "1a5709bf-2be1-4282-92ce-02c7c961d332",
   "metadata": {},
   "source": [
    "Q2. Why close() function is used? Why is it important to close a file?"
   ]
  },
  {
   "cell_type": "code",
   "execution_count": null,
   "id": "ae9de99d-94aa-4033-a91f-062ffd1831b2",
   "metadata": {},
   "outputs": [],
   "source": [
    "\"\"\"The close() function is used to release system resources and ensure data integrity by properly \n",
    "   closing a file after use. It is important to prevent memory leaks and maintain file integrity.\"\"\""
   ]
  },
  {
   "cell_type": "markdown",
   "id": "5c276d79-3b84-477a-a400-ebea3d74f14a",
   "metadata": {},
   "source": [
    "Q3. Write a python program to create a text file. Write ‘I want to become a Data Scientist’ in that file. Then\n",
    "close the file. Open this file and read the content of the file."
   ]
  },
  {
   "cell_type": "code",
   "execution_count": 5,
   "id": "994d3ed3-8fb8-45d1-be2e-86496ad6c1ab",
   "metadata": {},
   "outputs": [
    {
     "name": "stdout",
     "output_type": "stream",
     "text": [
      "I want to become a Data Sciencist\n"
     ]
    }
   ],
   "source": [
    "import logging\n",
    "logging.basicConfig(filename=\"error.log\",level=logging.ERROR)\n",
    "\n",
    "with open(\"Data_science.txt\",\"w\") as f:\n",
    "    f.write(\"I want to become a Data Sciencist\")\n",
    "f.close()\n",
    "\n",
    "try:\n",
    "    with open(\"Data_science.txt\",'r') as f:\n",
    "        data=f.read()\n",
    "        print(data)\n",
    "except FileNotFoundError as e:\n",
    "    logging.error(\"I am handling file not found {}\".format(e))\n",
    "finally:\n",
    "    f.close()\n",
    "    logging.shutdown()\n",
    "        "
   ]
  },
  {
   "cell_type": "markdown",
   "id": "4f7f0eac-94af-4290-bbc7-4351e328c357",
   "metadata": {},
   "source": [
    "Q4. Explain the following with python code: read(), readline() and readlines()."
   ]
  },
  {
   "cell_type": "code",
   "execution_count": 8,
   "id": "612c5cc6-c74f-48b1-870a-e1b70da3cdbc",
   "metadata": {},
   "outputs": [
    {
     "name": "stdout",
     "output_type": "stream",
     "text": [
      "I want to become a Data Sciencist\n",
      "I want to become a Data Sciencist\n",
      "['I want to become a Data Sciencist']\n"
     ]
    }
   ],
   "source": [
    "#read(): Reads the entire content of a file as a single string.\n",
    "file = open(\"Data_science.txt\", \"r\")\n",
    "content = file.read()\n",
    "print(content)\n",
    "file.close()\n",
    "\n",
    "#readline(): Reads a single line from a file.\n",
    "file = open(\"Data_science.txt\", \"r\")\n",
    "line = file.readline()\n",
    "print(line)\n",
    "file.close()\n",
    "\n",
    "\n",
    "#readlines(): Reads all lines from a file and returns them as a list of strings.\n",
    "file = open(\"Data_science.txt\", \"r\")\n",
    "lines = file.readlines()\n",
    "print(lines)\n",
    "file.close()\n"
   ]
  },
  {
   "cell_type": "markdown",
   "id": "451eced9-0cfe-45ff-95b2-cfd5249b3f21",
   "metadata": {},
   "source": [
    "Q5. Explain why with statement is used with open(). What is the advantage of using with statement and open() together? "
   ]
  },
  {
   "cell_type": "code",
   "execution_count": null,
   "id": "9e739030-9796-4146-8de5-8eeb3415b4c2",
   "metadata": {},
   "outputs": [],
   "source": [
    "\"\"\"The with statement is used with open() to ensure proper resource management and automatic file closure. \n",
    "   It provides advantages of exception handling, concise code, and preventing resource leaks in just a few lines.\"\"\""
   ]
  },
  {
   "cell_type": "markdown",
   "id": "75a3857c-ee74-453e-875a-b2981a9838e8",
   "metadata": {},
   "source": [
    "Q6. Explain the write() and writelines() functions. Give a suitable example."
   ]
  },
  {
   "cell_type": "code",
   "execution_count": 31,
   "id": "ea7c3e34-b571-42a0-9c6c-89615d3cd50b",
   "metadata": {},
   "outputs": [],
   "source": [
    "#The write() function is used to write a single string or a sequence of characters to a file.\n",
    "file = open(\"example.txt\", \"a+\")\n",
    "file.write(\"Hello, World!\")\n",
    "file.close()\n",
    "\n",
    "#writelines(): The writelines() function is used to write multiple strings or a sequence of strings to a file. \n",
    "#It takes an iterable (e.g., a list) containing the strings to be written.\n",
    "lines = [\"This is line 1\\n\", \"This is line 2\\n\", \"This is line 3\\n\"]\n",
    "file = open(\"example.txt\", \"w\")\n",
    "file.writelines(lines)\n",
    "file.close()"
   ]
  },
  {
   "cell_type": "code",
   "execution_count": null,
   "id": "f2f4c7af-e119-4aae-8754-373863dd6daf",
   "metadata": {},
   "outputs": [],
   "source": []
  },
  {
   "cell_type": "code",
   "execution_count": null,
   "id": "5c521872-f537-4b4f-bfa8-0ee1a74bd0d5",
   "metadata": {},
   "outputs": [],
   "source": []
  },
  {
   "cell_type": "code",
   "execution_count": null,
   "id": "24fcce44-be81-4993-812a-c40221518f13",
   "metadata": {},
   "outputs": [],
   "source": []
  }
 ],
 "metadata": {
  "kernelspec": {
   "display_name": "Python 3 (ipykernel)",
   "language": "python",
   "name": "python3"
  },
  "language_info": {
   "codemirror_mode": {
    "name": "ipython",
    "version": 3
   },
   "file_extension": ".py",
   "mimetype": "text/x-python",
   "name": "python",
   "nbconvert_exporter": "python",
   "pygments_lexer": "ipython3",
   "version": "3.10.8"
  }
 },
 "nbformat": 4,
 "nbformat_minor": 5
}
