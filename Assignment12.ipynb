{
 "cells": [
  {
   "cell_type": "markdown",
   "id": "a9e557f6-7dee-4024-97f6-64fb0081ee6a",
   "metadata": {},
   "source": [
    "Q1. What is an Exception in pthon? Write the difference between Exceptions and syntax errors?\n"
   ]
  },
  {
   "cell_type": "code",
   "execution_count": null,
   "id": "c7fb0620-65bf-4f58-bb31-70bdca50f481",
   "metadata": {},
   "outputs": [],
   "source": [
    "\"\"\"An exception in Python is a runtime error that occurs during program execution. \n",
    "  It disrupts the normal flow and can be caught and handled using try-except blocks. \n",
    "  Syntax errors, on the other hand, are parsing errors that occur before execution and must be fixed before running the program.\"\"\""
   ]
  },
  {
   "cell_type": "markdown",
   "id": "61dd3806-cb06-48c4-952d-3c6883f5c07b",
   "metadata": {},
   "source": [
    "Q2. What happens when an exception is not handled? Explain with an example "
   ]
  },
  {
   "cell_type": "code",
   "execution_count": 2,
   "id": "af029625-9156-4883-8d74-9197b62471fc",
   "metadata": {},
   "outputs": [
    {
     "name": "stdout",
     "output_type": "stream",
     "text": [
      "Caught a ValueError\n"
     ]
    }
   ],
   "source": [
    "\"\"\"When an exception is not handled, it results in an unhandled exception error, causing the program to terminate.\n",
    "   For example, an unhandled ZeroDivisionError will cause the program to crash.\"\"\"\n",
    "   \n",
    "try:\n",
    "    result = 10 / 0  \n",
    "    print(\"Result:\", result)  \n",
    "except ZeroDivisionError:\n",
    "    print(\"Caught a ValueError\")\n"
   ]
  },
  {
   "cell_type": "markdown",
   "id": "3e6c0b52-768f-45db-8d36-cb74753f4602",
   "metadata": {},
   "source": [
    "Q3. Which Python statements are used to  catch and handle exceptions?  in 20 words"
   ]
  },
  {
   "cell_type": "code",
   "execution_count": 3,
   "id": "580d7442-c8ff-4fb0-b2b6-6bdd45445b4e",
   "metadata": {},
   "outputs": [
    {
     "name": "stdout",
     "output_type": "stream",
     "text": [
      "list index out of range\n"
     ]
    }
   ],
   "source": [
    "#The try-except statements are used in Python to catch and handle exceptions.\n",
    "\n",
    "#Example\n",
    "try:\n",
    "    l=[2,3,4,2]\n",
    "    print(l[200])\n",
    "except IndexError as e:\n",
    "    print(e)\n",
    "finally:\n",
    "    del l"
   ]
  },
  {
   "cell_type": "markdown",
   "id": "975f7eaf-cd74-415b-817f-8f3cdc2ed89a",
   "metadata": {},
   "source": [
    "Q4. Explain with an example:\n",
    "    (a)try-else\n",
    "    (b)finally\n",
    "    (c)raise"
   ]
  },
  {
   "cell_type": "code",
   "execution_count": 1,
   "id": "c18e54ad-edf8-489e-bd62-e833a05e986a",
   "metadata": {},
   "outputs": [
    {
     "name": "stdin",
     "output_type": "stream",
     "text": [
      " 12\n",
      " 3\n"
     ]
    },
    {
     "name": "stdout",
     "output_type": "stream",
     "text": [
      "division :  4.0\n",
      "this is my file\n",
      "file executed\n",
      "Custom Exception caught: This is a custom exception.\n"
     ]
    }
   ],
   "source": [
    "### try-else\n",
    "\"\"\"In Python, the try and else statements are used together to handle exceptions and \n",
    "   define a block of code that should be executed when no exceptions occur within the try block.\"\"\"\n",
    "try:\n",
    "    a=int(input())\n",
    "    b=int(input())\n",
    "    result=a/b\n",
    "except Exception as e:\n",
    "    print(e)\n",
    "else:\n",
    "    print(\"division : \",result)\n",
    "    \n",
    "    \n",
    "#finally:\n",
    "\"\"\"The finally statement in Python is typically not written in a single line due to \n",
    "   its purpose of ensuring the execution of a block of code regardless of exceptions. \n",
    "   It is conventionally used as a block of code rather than being written in a single line.\"\"\"\n",
    "\n",
    "try:\n",
    "    with open(\"test.txt\",\"w+\") as f:\n",
    "        f.write(\"this is my file\")\n",
    "        f.seek(0)\n",
    "        data=f.read()\n",
    "        print(data)\n",
    "except FileNotFoundError:\n",
    "    print(\"file not found\")\n",
    "    \n",
    "finally:\n",
    "    f.close()\n",
    "    print(\"file executed\")\n",
    "    \n",
    "    \n",
    "    \n",
    "#raise\n",
    "\"\"\"raise keyword is used to explicitly raise an exception. \n",
    "   It allows you to generate and throw exceptions based on specific conditions or custom logic.\"\"\"\n",
    "        \n",
    "class MyCustomException(Exception):\n",
    "    pass\n",
    "\n",
    "try:\n",
    "    raise MyCustomException(\"This is a custom exception.\")\n",
    "except MyCustomException as e:\n",
    "    print(\"Custom Exception caught:\", str(e))\n"
   ]
  },
  {
   "cell_type": "markdown",
   "id": "232a07b7-13ed-4480-af66-ad344a811bbe",
   "metadata": {},
   "source": [
    "Q5. What are Custom Exceptions in Python? Why do we need Custom Exception? Explain with an example."
   ]
  },
  {
   "cell_type": "code",
   "execution_count": 10,
   "id": "5941b007-97d6-4ace-9eb8-9f9d777a90d6",
   "metadata": {},
   "outputs": [
    {
     "name": "stdout",
     "output_type": "stream",
     "text": [
      "Error: Insufficient funds to make the withdrawal.\n"
     ]
    }
   ],
   "source": [
    "\"\"\"Custom exceptions in Python are user-defined exception classes.\n",
    "   They are needed to handle specific error scenarios in a more precise and meaningful way.\"\"\"\n",
    "\n",
    "\n",
    "#Example\n",
    "class InsufficientFundsError(Exception):\n",
    "    pass\n",
    "\n",
    "\n",
    "def withdraw_amount(balance, amount):\n",
    "    if amount > balance:\n",
    "        raise InsufficientFundsError(\"Insufficient funds to make the withdrawal.\")\n",
    "    else:\n",
    "        pass\n",
    "\n",
    "\n",
    "try:\n",
    "    account_balance = 1000\n",
    "    withdrawal_amount = 1500\n",
    "    withdraw_amount(account_balance, withdrawal_amount)\n",
    "except InsufficientFundsError as e:\n",
    "    print(\"Error:\", str(e))\n"
   ]
  },
  {
   "cell_type": "markdown",
   "id": "52342eab-14ef-447a-95e3-175cb2cda1f3",
   "metadata": {},
   "source": [
    "Q6. Create a Custom Exception class.Use this class to handle an exception"
   ]
  },
  {
   "cell_type": "code",
   "execution_count": 2,
   "id": "1f06aaaf-a177-4ce2-a916-44097a72da7f",
   "metadata": {},
   "outputs": [
    {
     "name": "stdin",
     "output_type": "stream",
     "text": [
      " 345\n"
     ]
    },
    {
     "name": "stdout",
     "output_type": "stream",
     "text": [
      "the age number is too high\n"
     ]
    }
   ],
   "source": [
    "class validation(Exception):\n",
    "    def __init__(self,msg):\n",
    "        self.msg=msg\n",
    "def valid_age(age):\n",
    "    if age<0:\n",
    "        raise validation(\"the age neagtive number\")\n",
    "    elif age>200:\n",
    "        raise validation(\"the age number is too high\")\n",
    "    else:\n",
    "        validation(\"Age is valid\")\n",
    "        \n",
    "try:\n",
    "    age=int(input())\n",
    "    valid_age(age)\n",
    "except validation as e:\n",
    "    print(e)\n",
    "        "
   ]
  }
 ],
 "metadata": {
  "kernelspec": {
   "display_name": "Python 3 (ipykernel)",
   "language": "python",
   "name": "python3"
  },
  "language_info": {
   "codemirror_mode": {
    "name": "ipython",
    "version": 3
   },
   "file_extension": ".py",
   "mimetype": "text/x-python",
   "name": "python",
   "nbconvert_exporter": "python",
   "pygments_lexer": "ipython3",
   "version": "3.10.8"
  }
 },
 "nbformat": 4,
 "nbformat_minor": 5
}
